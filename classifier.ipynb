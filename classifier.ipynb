{
  "nbformat": 4,
  "nbformat_minor": 0,
  "metadata": {
    "colab": {
      "provenance": []
    },
    "kernelspec": {
      "name": "python3",
      "display_name": "Python 3"
    },
    "language_info": {
      "name": "python"
    }
  },
  "cells": [
    {
      "cell_type": "code",
      "execution_count": 2,
      "metadata": {
        "id": "Ak8_JYQR7N9h"
      },
      "outputs": [],
      "source": [
        "import numpy as np\n",
        "from PIL import Image\n",
        "\n",
        "import torch\n",
        "import torch.nn as nn\n",
        "import torch.nn.functional as F\n",
        "import torch.optim as optim\n",
        "\n",
        "import torchvision\n",
        "import torchvision.transforms as transforms"
      ]
    },
    {
      "cell_type": "code",
      "source": [
        "transform = transforms.Compose([\n",
        "    transforms.ToTensor(),\n",
        "    transforms.Normalize((0.5, 0.5, 0.5), (0.5, 0.5, 0.5))\n",
        "\n",
        "])"
      ],
      "metadata": {
        "id": "E7yiFXwT7p3j"
      },
      "execution_count": 5,
      "outputs": []
    },
    {
      "cell_type": "code",
      "source": [
        "train_data = torchvision.datasets.CIFAR10(root='./data', train=True, transform=transform, download=True)\n",
        "test_data = torchvision.datasets.CIFAR10(root='./data', train=False, transform=transform, download=True)\n",
        "\n",
        "train_loader = torch.utils.data.DataLoader(train_data, batch_size=32, shuffle=True, num_workers=2)\n",
        "test_loader = torch.utils.data.DataLoader(test_data, batch_size=32, shuffle=True, num_workers=2)"
      ],
      "metadata": {
        "colab": {
          "base_uri": "https://localhost:8080/"
        },
        "id": "8yAtFpne8HyZ",
        "outputId": "49ef6255-3424-4eca-91bb-00e06168d1ad"
      },
      "execution_count": 6,
      "outputs": [
        {
          "output_type": "stream",
          "name": "stdout",
          "text": [
            "Downloading https://www.cs.toronto.edu/~kriz/cifar-10-python.tar.gz to ./data/cifar-10-python.tar.gz\n"
          ]
        },
        {
          "output_type": "stream",
          "name": "stderr",
          "text": [
            "100%|██████████| 170498071/170498071 [00:02<00:00, 76292029.14it/s]\n"
          ]
        },
        {
          "output_type": "stream",
          "name": "stdout",
          "text": [
            "Extracting ./data/cifar-10-python.tar.gz to ./data\n",
            "Files already downloaded and verified\n"
          ]
        }
      ]
    },
    {
      "cell_type": "code",
      "source": [
        "image, label = train_data[0]"
      ],
      "metadata": {
        "id": "P5GMJVhZ9EIy"
      },
      "execution_count": 7,
      "outputs": []
    },
    {
      "cell_type": "code",
      "source": [
        "image.size()"
      ],
      "metadata": {
        "colab": {
          "base_uri": "https://localhost:8080/"
        },
        "id": "kDW-QxTk9LAm",
        "outputId": "df01edc1-23cf-45ca-bd12-38e4a35fc46d"
      },
      "execution_count": 8,
      "outputs": [
        {
          "output_type": "execute_result",
          "data": {
            "text/plain": [
              "torch.Size([3, 32, 32])"
            ]
          },
          "metadata": {},
          "execution_count": 8
        }
      ]
    },
    {
      "cell_type": "code",
      "source": [
        "class_names = ['plane', 'car', 'bird', 'cat', 'deer', 'frog', 'horse', 'ship', 'truck']"
      ],
      "metadata": {
        "id": "P7jj34Le9NM9"
      },
      "execution_count": 9,
      "outputs": []
    },
    {
      "cell_type": "code",
      "source": [
        "class NeuralNet(nn.Module):\n",
        "\n",
        "  def __init__(self):\n",
        "    super().__init__()\n",
        "\n",
        "    self.conv1 = nn.Conv2d(3, 12, 5) # (32 - 5) / 1 + 1 (12, 28, 28)\n",
        "    self.pool = nn.MaxPool2d(2, 2) # (12, 14, 14)\n",
        "    self.conv2 = nn.Conv2d(12, 24, 5)\n",
        "    self.fc1 = nn.Linear(24 * 5 * 5, 120)\n",
        "    self.fc2 = nn.Linear(120, 84)\n",
        "    self.fc3 = nn.Linear(84, 10)\n",
        "\n",
        "  def forward(self, x):\n",
        "    x = self.pool(F.relu(self.conv1(x)))\n",
        "    x = self.pool(F.relu(self.conv2(x)))\n",
        "    x = torch.flatten(x, 1)\n",
        "    x = F.relu(self.fc1(x))\n",
        "    x = F.relu(self.fc2(x))\n",
        "    x = self.fc3(x)\n",
        "    return x"
      ],
      "metadata": {
        "id": "WimX08yB9mqq"
      },
      "execution_count": 14,
      "outputs": []
    },
    {
      "cell_type": "code",
      "source": [
        "net = NeuralNet()\n",
        "loss_function = nn.CrossEntropyLoss()\n",
        "optimizer = optim.SGD(net.parameters(), lr=0.001, momentum =0.9)"
      ],
      "metadata": {
        "id": "2pHuPhaAACEy"
      },
      "execution_count": 15,
      "outputs": []
    },
    {
      "cell_type": "code",
      "source": [
        "for epoch in range(30):\n",
        "  print(f'Training epoch {epoch}...')\n",
        "\n",
        "  running_loss = 0.0\n",
        "\n",
        "  for i, data in enumerate(train_loader):\n",
        "    inputs, labels = data\n",
        "\n",
        "    optimizer.zero_grad()\n",
        "\n",
        "    outputs = net(inputs)\n",
        "\n",
        "    loss = loss_function(outputs, labels)\n",
        "    loss.backward()\n",
        "    optimizer.step()\n",
        "\n",
        "    running_loss += loss.item()\n",
        "  print(f'loss: {running_loss/len(train_loader):.4f}')"
      ],
      "metadata": {
        "colab": {
          "base_uri": "https://localhost:8080/"
        },
        "id": "NmnM-IrKBHA1",
        "outputId": "53af1081-cf17-4c8b-9dc4-6ef49426be29"
      },
      "execution_count": 19,
      "outputs": [
        {
          "output_type": "stream",
          "name": "stdout",
          "text": [
            "Training epoch 0...\n",
            "loss: 1.7524\n",
            "Training epoch 1...\n",
            "loss: 1.5257\n",
            "Training epoch 2...\n",
            "loss: 1.4010\n",
            "Training epoch 3...\n",
            "loss: 1.3101\n",
            "Training epoch 4...\n",
            "loss: 1.2238\n",
            "Training epoch 5...\n",
            "loss: 1.1488\n",
            "Training epoch 6...\n",
            "loss: 1.0884\n",
            "Training epoch 7...\n",
            "loss: 1.0319\n",
            "Training epoch 8...\n",
            "loss: 0.9856\n",
            "Training epoch 9...\n",
            "loss: 0.9430\n",
            "Training epoch 10...\n",
            "loss: 0.9082\n",
            "Training epoch 11...\n",
            "loss: 0.8742\n",
            "Training epoch 12...\n",
            "loss: 0.8429\n",
            "Training epoch 13...\n",
            "loss: 0.8075\n",
            "Training epoch 14...\n",
            "loss: 0.7807\n",
            "Training epoch 15...\n",
            "loss: 0.7521\n",
            "Training epoch 16...\n",
            "loss: 0.7241\n",
            "Training epoch 17...\n",
            "loss: 0.7012\n",
            "Training epoch 18...\n",
            "loss: 0.6795\n",
            "Training epoch 19...\n",
            "loss: 0.6539\n",
            "Training epoch 20...\n",
            "loss: 0.6290\n",
            "Training epoch 21...\n",
            "loss: 0.6079\n",
            "Training epoch 22...\n",
            "loss: 0.5869\n",
            "Training epoch 23...\n",
            "loss: 0.5647\n",
            "Training epoch 24...\n",
            "loss: 0.5430\n",
            "Training epoch 25...\n",
            "loss: 0.5218\n",
            "Training epoch 26...\n",
            "loss: 0.5043\n",
            "Training epoch 27...\n",
            "loss: 0.4802\n",
            "Training epoch 28...\n",
            "loss: 0.4628\n",
            "Training epoch 29...\n",
            "loss: 0.4431\n"
          ]
        }
      ]
    },
    {
      "cell_type": "code",
      "source": [
        "torch.save(net.state_dict(), 'trained_net.pth')"
      ],
      "metadata": {
        "id": "Bexc4CkoDZqN"
      },
      "execution_count": 21,
      "outputs": []
    },
    {
      "cell_type": "code",
      "source": [
        "net = NeuralNet()\n",
        "net.load_state_dict(torch.load('trained_net.pth'))"
      ],
      "metadata": {
        "colab": {
          "base_uri": "https://localhost:8080/"
        },
        "id": "zW7UPFoIDnVY",
        "outputId": "7dd7238e-11be-4f97-8656-dda79d2bd8c1"
      },
      "execution_count": 22,
      "outputs": [
        {
          "output_type": "stream",
          "name": "stderr",
          "text": [
            "<ipython-input-22-c299e2fffacc>:2: FutureWarning: You are using `torch.load` with `weights_only=False` (the current default value), which uses the default pickle module implicitly. It is possible to construct malicious pickle data which will execute arbitrary code during unpickling (See https://github.com/pytorch/pytorch/blob/main/SECURITY.md#untrusted-models for more details). In a future release, the default value for `weights_only` will be flipped to `True`. This limits the functions that could be executed during unpickling. Arbitrary objects will no longer be allowed to be loaded via this mode unless they are explicitly allowlisted by the user via `torch.serialization.add_safe_globals`. We recommend you start setting `weights_only=True` for any use case where you don't have full control of the loaded file. Please open an issue on GitHub for any issues related to this experimental feature.\n",
            "  net.load_state_dict(torch.load('trained_net.pth'))\n"
          ]
        },
        {
          "output_type": "execute_result",
          "data": {
            "text/plain": [
              "<All keys matched successfully>"
            ]
          },
          "metadata": {},
          "execution_count": 22
        }
      ]
    },
    {
      "cell_type": "code",
      "source": [
        "correct = 0\n",
        "total = 0\n",
        "\n",
        "net.eval()\n",
        "\n",
        "with torch.no_grad():\n",
        "  for data in test_loader:\n",
        "    images, labels = data\n",
        "    outputs = net(images)\n",
        "    _, predicted = torch.max(outputs, 1)\n",
        "    total += labels.size(0)\n",
        "    correct += (predicted == labels).sum().item()\n",
        "\n",
        "\n",
        "accuracy = 100 *correct / total\n",
        "\n",
        "print(f'Accuracy {accuracy}%')"
      ],
      "metadata": {
        "colab": {
          "base_uri": "https://localhost:8080/"
        },
        "id": "77BpMOOlEDP2",
        "outputId": "882a20ee-3efa-4d48-bc77-fd524548f504"
      },
      "execution_count": 23,
      "outputs": [
        {
          "output_type": "stream",
          "name": "stdout",
          "text": [
            "Accuracy 10.0%\n"
          ]
        }
      ]
    },
    {
      "cell_type": "code",
      "source": [
        "new_transform = transforms.Compose([\n",
        "    transforms.Resize((32, 32)),\n",
        "    transforms.ToTensor(),\n",
        "    transforms.Normalize((0.5, 0.5, 0.5), (0.5, 0.5, 0,5))\n",
        "])\n",
        "\n",
        "def load_image(image_path):\n",
        "  image = Image.open(image_path)\n",
        "  image = new_transform(image)\n",
        "  image = image.unsqueeze(0)\n",
        "  return image\n",
        "\n",
        "\n",
        "image_paths = ['example1.jpg', 'example2.jpg']\n",
        "images = [load_image(img) for img in image_paths]\n",
        "\n",
        "net.eval()\n",
        "with torch.no_grad():\n",
        "  for image in images:\n",
        "    output = net(image)\n",
        "    _, predicted = torch.max(outputs, 1)\n",
        "    print(f'Prediction: {class_names[predicted.item()]}')"
      ],
      "metadata": {
        "id": "zzGJEuATKf26"
      },
      "execution_count": null,
      "outputs": []
    }
  ]
}